{
  "nbformat": 4,
  "nbformat_minor": 0,
  "metadata": {
    "colab": {
      "provenance": [],
      "toc_visible": true,
      "authorship_tag": "ABX9TyPK/OkszcjIYH9SOZLLV7VT",
      "include_colab_link": true
    },
    "kernelspec": {
      "name": "python3",
      "display_name": "Python 3"
    },
    "language_info": {
      "name": "python"
    }
  },
  "cells": [
    {
      "cell_type": "markdown",
      "metadata": {
        "id": "view-in-github",
        "colab_type": "text"
      },
      "source": [
        "<a href=\"https://colab.research.google.com/github/khamzovich/visualization/blob/main/plotly_sankey.ipynb\" target=\"_parent\"><img src=\"https://colab.research.google.com/assets/colab-badge.svg\" alt=\"Open In Colab\"/></a>"
      ]
    },
    {
      "cell_type": "code",
      "source": [
        "from google.colab import drive\n",
        "drive.mount('/content/drive')"
      ],
      "metadata": {
        "colab": {
          "base_uri": "https://localhost:8080/"
        },
        "id": "cGmfGLNqa4ak",
        "outputId": "58884147-0c3e-4161-c40a-b1d09b7e6e11"
      },
      "execution_count": 1,
      "outputs": [
        {
          "output_type": "stream",
          "name": "stdout",
          "text": [
            "Mounted at /content/drive\n"
          ]
        }
      ]
    },
    {
      "cell_type": "code",
      "source": [
        "!pip install chart-studio --quiet"
      ],
      "metadata": {
        "colab": {
          "base_uri": "https://localhost:8080/"
        },
        "id": "UZUKk-0t-dss",
        "outputId": "2169981f-e937-4ed7-ee32-ed9cb721ca82"
      },
      "execution_count": 2,
      "outputs": [
        {
          "output_type": "stream",
          "name": "stdout",
          "text": [
            "\u001b[?25l\r\u001b[K     |█████                           | 10 kB 21.1 MB/s eta 0:00:01\r\u001b[K     |██████████▏                     | 20 kB 17.4 MB/s eta 0:00:01\r\u001b[K     |███████████████▎                | 30 kB 11.3 MB/s eta 0:00:01\r\u001b[K     |████████████████████▍           | 40 kB 4.8 MB/s eta 0:00:01\r\u001b[K     |█████████████████████████▍      | 51 kB 5.0 MB/s eta 0:00:01\r\u001b[K     |██████████████████████████████▌ | 61 kB 5.8 MB/s eta 0:00:01\r\u001b[K     |████████████████████████████████| 64 kB 1.9 MB/s \n",
            "\u001b[?25h  Building wheel for retrying (setup.py) ... \u001b[?25l\u001b[?25hdone\n"
          ]
        }
      ]
    },
    {
      "cell_type": "code",
      "source": [
        "import pandas as pd\n",
        "import numpy as np\n",
        "\n",
        "import chart_studio\n",
        "import chart_studio.plotly as py\n",
        "import plotly.graph_objects as go"
      ],
      "metadata": {
        "id": "Mk-xvb_BwkN7"
      },
      "execution_count": 3,
      "outputs": []
    },
    {
      "cell_type": "markdown",
      "metadata": {
        "id": "HWggloiLOJYy"
      },
      "source": [
        "### Load Data"
      ]
    },
    {
      "cell_type": "code",
      "source": [
        "events = pd.read_csv('/content/drive/MyDrive/CV_egabdrak/appendix/users_event_names.csv')\n",
        "events.head(3)"
      ],
      "metadata": {
        "colab": {
          "base_uri": "https://localhost:8080/",
          "height": 143
        },
        "id": "Bi7OV0gp49z_",
        "outputId": "5520061a-008f-4a42-991a-33d04d9d1511"
      },
      "execution_count": 5,
      "outputs": [
        {
          "output_type": "execute_result",
          "data": {
            "text/plain": [
              "    event_timestamp                   user_id                 name\n",
              "0  1641408689791774  61ae53c84d1d22aef9160881         review_start\n",
              "1  1641408720551338  61ae53c84d1d22aef9160881        review_finish\n",
              "2  1641368139229908                 288780102  recommendation_open"
            ],
            "text/html": [
              "\n",
              "  <div id=\"df-e4ff10c0-f25c-41ca-a4a9-2df2045db592\">\n",
              "    <div class=\"colab-df-container\">\n",
              "      <div>\n",
              "<style scoped>\n",
              "    .dataframe tbody tr th:only-of-type {\n",
              "        vertical-align: middle;\n",
              "    }\n",
              "\n",
              "    .dataframe tbody tr th {\n",
              "        vertical-align: top;\n",
              "    }\n",
              "\n",
              "    .dataframe thead th {\n",
              "        text-align: right;\n",
              "    }\n",
              "</style>\n",
              "<table border=\"1\" class=\"dataframe\">\n",
              "  <thead>\n",
              "    <tr style=\"text-align: right;\">\n",
              "      <th></th>\n",
              "      <th>event_timestamp</th>\n",
              "      <th>user_id</th>\n",
              "      <th>name</th>\n",
              "    </tr>\n",
              "  </thead>\n",
              "  <tbody>\n",
              "    <tr>\n",
              "      <th>0</th>\n",
              "      <td>1641408689791774</td>\n",
              "      <td>61ae53c84d1d22aef9160881</td>\n",
              "      <td>review_start</td>\n",
              "    </tr>\n",
              "    <tr>\n",
              "      <th>1</th>\n",
              "      <td>1641408720551338</td>\n",
              "      <td>61ae53c84d1d22aef9160881</td>\n",
              "      <td>review_finish</td>\n",
              "    </tr>\n",
              "    <tr>\n",
              "      <th>2</th>\n",
              "      <td>1641368139229908</td>\n",
              "      <td>288780102</td>\n",
              "      <td>recommendation_open</td>\n",
              "    </tr>\n",
              "  </tbody>\n",
              "</table>\n",
              "</div>\n",
              "      <button class=\"colab-df-convert\" onclick=\"convertToInteractive('df-e4ff10c0-f25c-41ca-a4a9-2df2045db592')\"\n",
              "              title=\"Convert this dataframe to an interactive table.\"\n",
              "              style=\"display:none;\">\n",
              "        \n",
              "  <svg xmlns=\"http://www.w3.org/2000/svg\" height=\"24px\"viewBox=\"0 0 24 24\"\n",
              "       width=\"24px\">\n",
              "    <path d=\"M0 0h24v24H0V0z\" fill=\"none\"/>\n",
              "    <path d=\"M18.56 5.44l.94 2.06.94-2.06 2.06-.94-2.06-.94-.94-2.06-.94 2.06-2.06.94zm-11 1L8.5 8.5l.94-2.06 2.06-.94-2.06-.94L8.5 2.5l-.94 2.06-2.06.94zm10 10l.94 2.06.94-2.06 2.06-.94-2.06-.94-.94-2.06-.94 2.06-2.06.94z\"/><path d=\"M17.41 7.96l-1.37-1.37c-.4-.4-.92-.59-1.43-.59-.52 0-1.04.2-1.43.59L10.3 9.45l-7.72 7.72c-.78.78-.78 2.05 0 2.83L4 21.41c.39.39.9.59 1.41.59.51 0 1.02-.2 1.41-.59l7.78-7.78 2.81-2.81c.8-.78.8-2.07 0-2.86zM5.41 20L4 18.59l7.72-7.72 1.47 1.35L5.41 20z\"/>\n",
              "  </svg>\n",
              "      </button>\n",
              "      \n",
              "  <style>\n",
              "    .colab-df-container {\n",
              "      display:flex;\n",
              "      flex-wrap:wrap;\n",
              "      gap: 12px;\n",
              "    }\n",
              "\n",
              "    .colab-df-convert {\n",
              "      background-color: #E8F0FE;\n",
              "      border: none;\n",
              "      border-radius: 50%;\n",
              "      cursor: pointer;\n",
              "      display: none;\n",
              "      fill: #1967D2;\n",
              "      height: 32px;\n",
              "      padding: 0 0 0 0;\n",
              "      width: 32px;\n",
              "    }\n",
              "\n",
              "    .colab-df-convert:hover {\n",
              "      background-color: #E2EBFA;\n",
              "      box-shadow: 0px 1px 2px rgba(60, 64, 67, 0.3), 0px 1px 3px 1px rgba(60, 64, 67, 0.15);\n",
              "      fill: #174EA6;\n",
              "    }\n",
              "\n",
              "    [theme=dark] .colab-df-convert {\n",
              "      background-color: #3B4455;\n",
              "      fill: #D2E3FC;\n",
              "    }\n",
              "\n",
              "    [theme=dark] .colab-df-convert:hover {\n",
              "      background-color: #434B5C;\n",
              "      box-shadow: 0px 1px 3px 1px rgba(0, 0, 0, 0.15);\n",
              "      filter: drop-shadow(0px 1px 2px rgba(0, 0, 0, 0.3));\n",
              "      fill: #FFFFFF;\n",
              "    }\n",
              "  </style>\n",
              "\n",
              "      <script>\n",
              "        const buttonEl =\n",
              "          document.querySelector('#df-e4ff10c0-f25c-41ca-a4a9-2df2045db592 button.colab-df-convert');\n",
              "        buttonEl.style.display =\n",
              "          google.colab.kernel.accessAllowed ? 'block' : 'none';\n",
              "\n",
              "        async function convertToInteractive(key) {\n",
              "          const element = document.querySelector('#df-e4ff10c0-f25c-41ca-a4a9-2df2045db592');\n",
              "          const dataTable =\n",
              "            await google.colab.kernel.invokeFunction('convertToInteractive',\n",
              "                                                     [key], {});\n",
              "          if (!dataTable) return;\n",
              "\n",
              "          const docLinkHtml = 'Like what you see? Visit the ' +\n",
              "            '<a target=\"_blank\" href=https://colab.research.google.com/notebooks/data_table.ipynb>data table notebook</a>'\n",
              "            + ' to learn more about interactive tables.';\n",
              "          element.innerHTML = '';\n",
              "          dataTable['output_type'] = 'display_data';\n",
              "          await google.colab.output.renderOutput(dataTable, element);\n",
              "          const docLink = document.createElement('div');\n",
              "          docLink.innerHTML = docLinkHtml;\n",
              "          element.appendChild(docLink);\n",
              "        }\n",
              "      </script>\n",
              "    </div>\n",
              "  </div>\n",
              "  "
            ]
          },
          "metadata": {},
          "execution_count": 5
        }
      ]
    },
    {
      "cell_type": "code",
      "source": [
        "events.name.unique()"
      ],
      "metadata": {
        "colab": {
          "base_uri": "https://localhost:8080/"
        },
        "id": "C9CMhYum5OS9",
        "outputId": "bf0be493-6d72-4429-9a92-bec20847d882"
      },
      "execution_count": 6,
      "outputs": [
        {
          "output_type": "execute_result",
          "data": {
            "text/plain": [
              "array(['review_start', 'review_finish', 'recommendation_open', 'faq_open',\n",
              "       'alert_open', 'registration_success', 'share_open',\n",
              "       'profile_completed', 'read_open', 'video_start', 'video_live_open',\n",
              "       'video_tab_open', 'video_subscribe'], dtype=object)"
            ]
          },
          "metadata": {},
          "execution_count": 6
        }
      ]
    },
    {
      "cell_type": "markdown",
      "metadata": {
        "id": "phqFHN25wOrP"
      },
      "source": [
        "### Sankey Diagram"
      ]
    },
    {
      "cell_type": "markdown",
      "metadata": {
        "id": "-BRqvUA-wOrQ"
      },
      "source": [
        "[User journey (sankey) diagram](https://medium.com/multiplyai/user-journey-sankey-diagram-25bb1aa42484)"
      ]
    },
    {
      "cell_type": "markdown",
      "source": [
        "#### functions"
      ],
      "metadata": {
        "id": "HghuaXYWpFE3"
      }
    },
    {
      "cell_type": "markdown",
      "metadata": {
        "id": "3HOP4v_kwOrR"
      },
      "source": [
        "1) Define a starting point and return the first n_steps for each user"
      ]
    },
    {
      "cell_type": "code",
      "execution_count": 7,
      "metadata": {
        "id": "imG9q-FxwOrR"
      },
      "outputs": [],
      "source": [
        "def filter_starting_step(x, starting_step, n_steps):\n",
        "  \"\"\"\n",
        "  Function used to return the first n_steps for each user starting from the \"starting_step\".\n",
        "  The function will be used to generate the event sequence journey for each user.\n",
        "  \"\"\"\n",
        "  starting_step_index = x.index(starting_step)\n",
        "    \n",
        "  return x[starting_step_index: starting_step_index + n_steps]"
      ]
    },
    {
      "cell_type": "code",
      "source": [
        "def user_journey(events, starting_step, n_steps=5, events_per_step=10, id='user_id'):\n",
        "  \"\"\"\n",
        "  Function used to map out the journey for each user starting from the defined \"starting_step\" and count\n",
        "  how many identical journeys exist across users.\n",
        "  \"\"\"\n",
        "\n",
        "  # sort events by time\n",
        "  events = events.sort_values([id, 'event_timestamp'])\n",
        "\n",
        "  # find the users that have performed the starting_step\n",
        "  valid_ids = events[events['name'] == starting_step][id].unique()\n",
        "\n",
        "  # plan out the journey per user, with each step in a separate column\n",
        "  flow = (events[(events[id].isin(valid_ids))]\n",
        "          .groupby(id)\n",
        "          .name.agg(list)\n",
        "          .to_frame()['name']\n",
        "          .apply(lambda x: filter_starting_step(x, starting_step=starting_step, n_steps=n_steps))\n",
        "          .to_frame()\n",
        "          ['name'].apply(pd.Series)\n",
        "          )\n",
        "\n",
        "  # fill NaNs with \"End\" to denote no further step by user; this will be filtered out later\n",
        "  flow = flow.fillna('End')\n",
        "\n",
        "  # add the step number as prefix to each step\n",
        "  for i, col in enumerate(flow.columns):\n",
        "    flow[col] = '{}: '.format(i + 1) + flow[col].astype(str)\n",
        "\n",
        "  # replace events not in the top \"events_per_step\" most frequent list with the name \"Other\"\n",
        "  # this is done to avoid having too many nodes in the sankey diagram\n",
        "  for col in flow.columns:\n",
        "    all_events = flow[col].value_counts().index.tolist()\n",
        "    all_events = [e for e in all_events if e != (str(col + 1) + ': End')]\n",
        "    top_events = all_events[:events_per_step]\n",
        "    to_replace = list(set(all_events) - set(top_events))\n",
        "    flow[col].replace(to_replace, [str(col + 1) + ': Other'] * len(to_replace), inplace=True)\n",
        "\n",
        "  # count the number of identical journeys up the max step defined\n",
        "  flow = (flow\n",
        "          .groupby(list(range(n_steps)))\n",
        "          .size()\n",
        "          .to_frame()\n",
        "          .rename({0: 'count'}, axis=1)\n",
        "          .reset_index()\n",
        "          )\n",
        "\n",
        "  return flow"
      ],
      "metadata": {
        "id": "3Cc0rb72QybS"
      },
      "execution_count": 8,
      "outputs": []
    },
    {
      "cell_type": "markdown",
      "metadata": {
        "id": "VZGoaj1XwOrR"
      },
      "source": [
        "4) Transform the DataFrame to count source:target pairs"
      ]
    },
    {
      "cell_type": "code",
      "execution_count": 9,
      "metadata": {
        "id": "G1TR5k1hwOrR"
      },
      "outputs": [],
      "source": [
        "def sankey_df(events, starting_step, n_steps=5, events_per_step=10):\n",
        "  \"\"\"\n",
        "  Function used to generate the dataframe needed to be passed to the sankey generation function.\n",
        "  \"source\" and \"target\" column pairs denote links that will be shown in the sankey diagram.\n",
        "  \"\"\"\n",
        "  # generate the user user flow dataframe\n",
        "  flow = user_journey(events, starting_step, n_steps, events_per_step)\n",
        "\n",
        "  # create the nodes labels list\n",
        "  label_list = []\n",
        "  cat_cols = flow.columns[:-1].values.tolist()\n",
        "  for cat_col in cat_cols:\n",
        "    label_list_temp = list(set(flow[cat_col].values))\n",
        "    label_list = label_list + label_list_temp\n",
        "\n",
        "  # create a list of colours for the nodes\n",
        "  # assign 'blue' to any node and 'grey' to \"Other\" nodes\n",
        "  colors_list = ['blue' if i.find('Other') < 0 else 'grey' for i in label_list]\n",
        "\n",
        "  # transform flow df into a source-target pair\n",
        "  for i in range(len(cat_cols) - 1):\n",
        "    if i == 0:\n",
        "      source_target_df = flow[[cat_cols[i], cat_cols[i + 1], 'count']]\n",
        "      source_target_df.columns = ['source', 'target', 'count']\n",
        "    else:\n",
        "      temp_df = flow[[cat_cols[i], cat_cols[i + 1], 'count']]\n",
        "      temp_df.columns = ['source', 'target', 'count']\n",
        "      source_target_df = pd.concat([source_target_df, temp_df])\n",
        "    source_target_df = source_target_df.groupby(['source', 'target']).agg({'count': 'sum'}).reset_index()\n",
        "\n",
        "    # add index for source-target pair\n",
        "    source_target_df['source_id'] = source_target_df['source'].apply(lambda x: label_list.index(x))\n",
        "    source_target_df['target_id'] = source_target_df['target'].apply(lambda x: label_list.index(x))\n",
        "\n",
        "    # filter out the end step\n",
        "    source_target_df = source_target_df[(~source_target_df['source'].str.contains('End')) &\n",
        "                                        (~source_target_df['target'].str.contains('End'))]\n",
        "\n",
        "  return label_list, colors_list, source_target_df"
      ]
    },
    {
      "cell_type": "code",
      "execution_count": 10,
      "metadata": {
        "id": "WHhcW44swOrR"
      },
      "outputs": [],
      "source": [
        "def plot_user_flow(events, starting_step, n_steps=5, events_per_step=10, title='Sankey Diagram'):\n",
        "  \"\"\"\n",
        "  Function used to generate the sankey plot for user journeys.\n",
        "  \"\"\"\n",
        "  # transform raw events dataframe into  source:target pairs including node ids and count of each combination\n",
        "  label_list, colors_list, source_target_df = sankey_df(events, starting_step, n_steps, events_per_step)\n",
        "\n",
        "  # creating the sankey diagram\n",
        "  data = dict(\n",
        "      type='sankey',\n",
        "      node=dict(\n",
        "          pad=20,\n",
        "          thickness=20,\n",
        "          color=colors_list,\n",
        "          line=dict(\n",
        "            color=\"black\",\n",
        "            width=0.5\n",
        "            ),\n",
        "            label=label_list\n",
        "            ),\n",
        "            link=dict(\n",
        "              source=source_target_df['source_id'].values.tolist(),\n",
        "              target=source_target_df['target_id'].values.tolist(),\n",
        "              value=source_target_df['count'].astype(int).values.tolist(),\n",
        "              hoverlabel=dict(\n",
        "                bgcolor='#C2C4C7')\n",
        "              )\n",
        "            )\n",
        "\n",
        "  # set window width so that steps are evenly spaced out\n",
        "  if n_steps < 5:\n",
        "    width = None\n",
        "  else:\n",
        "    width = n_steps * 250\n",
        "    \n",
        "  layout = dict(\n",
        "      height=600,\n",
        "      width=width,\n",
        "      margin=dict(t=30, l=0, r=0, b=30),\n",
        "      title=title,\n",
        "      font=dict(\n",
        "          size=10\n",
        "          )\n",
        "      )\n",
        "\n",
        "  # fig = dict(data=[data], layout=layout)\n",
        "\n",
        "  # plotly\n",
        "  fig = go.Figure(data=[data], layout=layout)\n",
        "\n",
        "  # fig.update_layout(title_text=\"Basic Sankey Diagram\", font_size=10)\n",
        "  # fig.show()\n",
        "\n",
        "  return fig"
      ]
    },
    {
      "cell_type": "markdown",
      "source": [
        "#### plot diagram"
      ],
      "metadata": {
        "id": "a8YRLamypMUH"
      }
    },
    {
      "cell_type": "code",
      "source": [
        "fig = plot_user_flow(events, 'registration_success', n_steps=5, events_per_step=15, title='Events')\n",
        "fig.show()"
      ],
      "metadata": {
        "colab": {
          "base_uri": "https://localhost:8080/",
          "height": 637
        },
        "id": "GY1HQvnySgro",
        "outputId": "9bb0b37d-6b60-491d-94af-0a11b3044c75"
      },
      "execution_count": 11,
      "outputs": [
        {
          "output_type": "display_data",
          "data": {
            "text/html": [
              "<html>\n",
              "<head><meta charset=\"utf-8\" /></head>\n",
              "<body>\n",
              "    <div>            <script src=\"https://cdnjs.cloudflare.com/ajax/libs/mathjax/2.7.5/MathJax.js?config=TeX-AMS-MML_SVG\"></script><script type=\"text/javascript\">if (window.MathJax) {MathJax.Hub.Config({SVG: {font: \"STIX-Web\"}});}</script>                <script type=\"text/javascript\">window.PlotlyConfig = {MathJaxConfig: 'local'};</script>\n",
              "        <script src=\"https://cdn.plot.ly/plotly-2.8.3.min.js\"></script>                <div id=\"f2bf22d1-3c16-494f-afa5-d8e5ab13b47b\" class=\"plotly-graph-div\" style=\"height:600px; width:1250px;\"></div>            <script type=\"text/javascript\">                                    window.PLOTLYENV=window.PLOTLYENV || {};                                    if (document.getElementById(\"f2bf22d1-3c16-494f-afa5-d8e5ab13b47b\")) {                    Plotly.newPlot(                        \"f2bf22d1-3c16-494f-afa5-d8e5ab13b47b\",                        [{\"link\":{\"hoverlabel\":{\"bgcolor\":\"#C2C4C7\"},\"source\":[0,0,0,0,0,0,0,0,0,0,0,3,3,3,3,3,3,11,7,7,7,7,7,7,10,10,10,10,10,10,10,8,8,8,8,8,9,9,2,2,2,2,2,2,12,12,12,12,12,12,12,4,4,4,4,4,4,4,4,5,5,5,5,5,5,5,6,6,6,6,6,6,6,15,15,15,15,15,15,15,13,13,13,14,14,14,14,14,14,14,14,19,19,19,19,19,19,16,16,16,16,16,16,16,20,20,20,20,20,20,18,18,18,18,18,18,18,22,22,22,22,22,22,22,22,21,21,21,21,21,21,21,21,21,17,17,17,17,17,17,17,17,27,27,27,27,27,27,28,28,31,31,31,31,31,31,31,31,31,29,29,29,29,29,29,30,30,30,30,30,30,30,30,26,26,26,26,34,34,34,34,34,34,34,34,34,25,25,25,25,25,25,25,32,32,32,32,32,32,32,32,32,32,24,24,24,24,24,24,24,24],\"target\":[3,11,7,10,8,9,2,12,4,5,6,14,19,18,22,21,17,14,13,14,19,22,21,17,15,19,20,18,22,21,17,15,14,18,22,17,22,21,14,16,18,22,21,17,15,14,19,20,22,21,17,15,14,19,16,20,18,21,17,15,14,19,20,18,22,17,15,14,19,20,18,22,21,31,29,26,34,25,32,24,31,32,24,27,28,29,26,34,25,32,24,27,31,34,25,32,24,27,31,29,34,25,32,24,31,29,30,34,32,24,27,31,30,26,25,32,24,27,28,31,29,26,34,32,24,27,28,31,29,30,26,34,25,24,27,31,29,30,26,34,25,32,39,46,40,43,41,38,35,38,35,44,46,36,37,40,43,41,38,35,39,40,43,41,38,35,44,39,46,40,43,41,38,36,40,43,38,35,44,39,46,36,37,43,41,38,35,44,39,46,40,41,38,35,44,39,46,36,37,42,40,43,38,35,39,46,36,37,40,43,41],\"value\":[40,2,48,129,37,2,932,366,159,930,506,6,3,7,7,7,8,1,5,5,1,5,14,7,12,13,9,7,7,16,18,4,22,2,3,2,1,1,1,689,45,3,160,24,11,7,2,159,103,27,25,7,10,6,1,4,28,16,12,26,24,9,281,85,78,284,10,10,12,105,34,19,217,7,5,1,17,15,5,18,1,1,2,5,1,6,2,9,12,15,15,3,21,2,7,3,3,42,27,16,119,108,186,125,1,2,514,6,9,9,11,9,45,7,73,15,20,7,1,14,7,1,29,28,35,21,2,16,6,137,39,49,55,35,28,13,13,17,40,71,66,47,17,2,33,32,9,16,1,2,11,1,11,1,1,15,11,7,22,3,20,6,10,5,3,17,1,36,13,73,166,92,161,84,1,1,1,20,1,15,5,5,2,171,17,20,25,1,14,4,66,36,34,36,1,16,7,9,4,1,46,47,83,10,11,7,10,1,30,24,115]},\"node\":{\"color\":[\"blue\",\"blue\",\"blue\",\"blue\",\"blue\",\"blue\",\"blue\",\"blue\",\"blue\",\"blue\",\"blue\",\"blue\",\"blue\",\"blue\",\"blue\",\"blue\",\"blue\",\"blue\",\"blue\",\"blue\",\"blue\",\"blue\",\"blue\",\"blue\",\"blue\",\"blue\",\"blue\",\"blue\",\"blue\",\"blue\",\"blue\",\"blue\",\"blue\",\"blue\",\"blue\",\"blue\",\"blue\",\"blue\",\"blue\",\"blue\",\"blue\",\"blue\",\"blue\",\"blue\",\"blue\",\"blue\",\"blue\"],\"label\":[\"1: registration_success\",\"2: End\",\"2: review_start\",\"2: alert_open\",\"2: video_start\",\"2: video_subscribe\",\"2: video_tab_open\",\"2: profile_completed\",\"2: recommendation_open\",\"2: review_finish\",\"2: read_open\",\"2: faq_open\",\"2: video_live_open\",\"3: faq_open\",\"3: read_open\",\"3: alert_open\",\"3: review_finish\",\"3: video_tab_open\",\"3: video_live_open\",\"3: recommendation_open\",\"3: review_start\",\"3: video_subscribe\",\"3: video_start\",\"3: End\",\"4: video_tab_open\",\"4: video_start\",\"4: review_start\",\"4: alert_open\",\"4: faq_open\",\"4: recommendation_open\",\"4: review_finish\",\"4: read_open\",\"4: video_subscribe\",\"4: End\",\"4: video_live_open\",\"5: alert_open\",\"5: review_finish\",\"5: review_start\",\"5: video_tab_open\",\"5: read_open\",\"5: video_live_open\",\"5: video_subscribe\",\"5: share_open\",\"5: video_start\",\"5: faq_open\",\"5: End\",\"5: recommendation_open\"],\"line\":{\"color\":\"black\",\"width\":0.5},\"pad\":20,\"thickness\":20},\"type\":\"sankey\"}],                        {\"font\":{\"size\":10},\"height\":600,\"margin\":{\"b\":30,\"l\":0,\"r\":0,\"t\":30},\"title\":{\"text\":\"Events\"},\"width\":1250,\"template\":{\"data\":{\"bar\":[{\"error_x\":{\"color\":\"#2a3f5f\"},\"error_y\":{\"color\":\"#2a3f5f\"},\"marker\":{\"line\":{\"color\":\"#E5ECF6\",\"width\":0.5},\"pattern\":{\"fillmode\":\"overlay\",\"size\":10,\"solidity\":0.2}},\"type\":\"bar\"}],\"barpolar\":[{\"marker\":{\"line\":{\"color\":\"#E5ECF6\",\"width\":0.5},\"pattern\":{\"fillmode\":\"overlay\",\"size\":10,\"solidity\":0.2}},\"type\":\"barpolar\"}],\"carpet\":[{\"aaxis\":{\"endlinecolor\":\"#2a3f5f\",\"gridcolor\":\"white\",\"linecolor\":\"white\",\"minorgridcolor\":\"white\",\"startlinecolor\":\"#2a3f5f\"},\"baxis\":{\"endlinecolor\":\"#2a3f5f\",\"gridcolor\":\"white\",\"linecolor\":\"white\",\"minorgridcolor\":\"white\",\"startlinecolor\":\"#2a3f5f\"},\"type\":\"carpet\"}],\"choropleth\":[{\"colorbar\":{\"outlinewidth\":0,\"ticks\":\"\"},\"type\":\"choropleth\"}],\"contour\":[{\"colorbar\":{\"outlinewidth\":0,\"ticks\":\"\"},\"colorscale\":[[0.0,\"#0d0887\"],[0.1111111111111111,\"#46039f\"],[0.2222222222222222,\"#7201a8\"],[0.3333333333333333,\"#9c179e\"],[0.4444444444444444,\"#bd3786\"],[0.5555555555555556,\"#d8576b\"],[0.6666666666666666,\"#ed7953\"],[0.7777777777777778,\"#fb9f3a\"],[0.8888888888888888,\"#fdca26\"],[1.0,\"#f0f921\"]],\"type\":\"contour\"}],\"contourcarpet\":[{\"colorbar\":{\"outlinewidth\":0,\"ticks\":\"\"},\"type\":\"contourcarpet\"}],\"heatmap\":[{\"colorbar\":{\"outlinewidth\":0,\"ticks\":\"\"},\"colorscale\":[[0.0,\"#0d0887\"],[0.1111111111111111,\"#46039f\"],[0.2222222222222222,\"#7201a8\"],[0.3333333333333333,\"#9c179e\"],[0.4444444444444444,\"#bd3786\"],[0.5555555555555556,\"#d8576b\"],[0.6666666666666666,\"#ed7953\"],[0.7777777777777778,\"#fb9f3a\"],[0.8888888888888888,\"#fdca26\"],[1.0,\"#f0f921\"]],\"type\":\"heatmap\"}],\"heatmapgl\":[{\"colorbar\":{\"outlinewidth\":0,\"ticks\":\"\"},\"colorscale\":[[0.0,\"#0d0887\"],[0.1111111111111111,\"#46039f\"],[0.2222222222222222,\"#7201a8\"],[0.3333333333333333,\"#9c179e\"],[0.4444444444444444,\"#bd3786\"],[0.5555555555555556,\"#d8576b\"],[0.6666666666666666,\"#ed7953\"],[0.7777777777777778,\"#fb9f3a\"],[0.8888888888888888,\"#fdca26\"],[1.0,\"#f0f921\"]],\"type\":\"heatmapgl\"}],\"histogram\":[{\"marker\":{\"pattern\":{\"fillmode\":\"overlay\",\"size\":10,\"solidity\":0.2}},\"type\":\"histogram\"}],\"histogram2d\":[{\"colorbar\":{\"outlinewidth\":0,\"ticks\":\"\"},\"colorscale\":[[0.0,\"#0d0887\"],[0.1111111111111111,\"#46039f\"],[0.2222222222222222,\"#7201a8\"],[0.3333333333333333,\"#9c179e\"],[0.4444444444444444,\"#bd3786\"],[0.5555555555555556,\"#d8576b\"],[0.6666666666666666,\"#ed7953\"],[0.7777777777777778,\"#fb9f3a\"],[0.8888888888888888,\"#fdca26\"],[1.0,\"#f0f921\"]],\"type\":\"histogram2d\"}],\"histogram2dcontour\":[{\"colorbar\":{\"outlinewidth\":0,\"ticks\":\"\"},\"colorscale\":[[0.0,\"#0d0887\"],[0.1111111111111111,\"#46039f\"],[0.2222222222222222,\"#7201a8\"],[0.3333333333333333,\"#9c179e\"],[0.4444444444444444,\"#bd3786\"],[0.5555555555555556,\"#d8576b\"],[0.6666666666666666,\"#ed7953\"],[0.7777777777777778,\"#fb9f3a\"],[0.8888888888888888,\"#fdca26\"],[1.0,\"#f0f921\"]],\"type\":\"histogram2dcontour\"}],\"mesh3d\":[{\"colorbar\":{\"outlinewidth\":0,\"ticks\":\"\"},\"type\":\"mesh3d\"}],\"parcoords\":[{\"line\":{\"colorbar\":{\"outlinewidth\":0,\"ticks\":\"\"}},\"type\":\"parcoords\"}],\"pie\":[{\"automargin\":true,\"type\":\"pie\"}],\"scatter\":[{\"marker\":{\"colorbar\":{\"outlinewidth\":0,\"ticks\":\"\"}},\"type\":\"scatter\"}],\"scatter3d\":[{\"line\":{\"colorbar\":{\"outlinewidth\":0,\"ticks\":\"\"}},\"marker\":{\"colorbar\":{\"outlinewidth\":0,\"ticks\":\"\"}},\"type\":\"scatter3d\"}],\"scattercarpet\":[{\"marker\":{\"colorbar\":{\"outlinewidth\":0,\"ticks\":\"\"}},\"type\":\"scattercarpet\"}],\"scattergeo\":[{\"marker\":{\"colorbar\":{\"outlinewidth\":0,\"ticks\":\"\"}},\"type\":\"scattergeo\"}],\"scattergl\":[{\"marker\":{\"colorbar\":{\"outlinewidth\":0,\"ticks\":\"\"}},\"type\":\"scattergl\"}],\"scattermapbox\":[{\"marker\":{\"colorbar\":{\"outlinewidth\":0,\"ticks\":\"\"}},\"type\":\"scattermapbox\"}],\"scatterpolar\":[{\"marker\":{\"colorbar\":{\"outlinewidth\":0,\"ticks\":\"\"}},\"type\":\"scatterpolar\"}],\"scatterpolargl\":[{\"marker\":{\"colorbar\":{\"outlinewidth\":0,\"ticks\":\"\"}},\"type\":\"scatterpolargl\"}],\"scatterternary\":[{\"marker\":{\"colorbar\":{\"outlinewidth\":0,\"ticks\":\"\"}},\"type\":\"scatterternary\"}],\"surface\":[{\"colorbar\":{\"outlinewidth\":0,\"ticks\":\"\"},\"colorscale\":[[0.0,\"#0d0887\"],[0.1111111111111111,\"#46039f\"],[0.2222222222222222,\"#7201a8\"],[0.3333333333333333,\"#9c179e\"],[0.4444444444444444,\"#bd3786\"],[0.5555555555555556,\"#d8576b\"],[0.6666666666666666,\"#ed7953\"],[0.7777777777777778,\"#fb9f3a\"],[0.8888888888888888,\"#fdca26\"],[1.0,\"#f0f921\"]],\"type\":\"surface\"}],\"table\":[{\"cells\":{\"fill\":{\"color\":\"#EBF0F8\"},\"line\":{\"color\":\"white\"}},\"header\":{\"fill\":{\"color\":\"#C8D4E3\"},\"line\":{\"color\":\"white\"}},\"type\":\"table\"}]},\"layout\":{\"annotationdefaults\":{\"arrowcolor\":\"#2a3f5f\",\"arrowhead\":0,\"arrowwidth\":1},\"autotypenumbers\":\"strict\",\"coloraxis\":{\"colorbar\":{\"outlinewidth\":0,\"ticks\":\"\"}},\"colorscale\":{\"diverging\":[[0,\"#8e0152\"],[0.1,\"#c51b7d\"],[0.2,\"#de77ae\"],[0.3,\"#f1b6da\"],[0.4,\"#fde0ef\"],[0.5,\"#f7f7f7\"],[0.6,\"#e6f5d0\"],[0.7,\"#b8e186\"],[0.8,\"#7fbc41\"],[0.9,\"#4d9221\"],[1,\"#276419\"]],\"sequential\":[[0.0,\"#0d0887\"],[0.1111111111111111,\"#46039f\"],[0.2222222222222222,\"#7201a8\"],[0.3333333333333333,\"#9c179e\"],[0.4444444444444444,\"#bd3786\"],[0.5555555555555556,\"#d8576b\"],[0.6666666666666666,\"#ed7953\"],[0.7777777777777778,\"#fb9f3a\"],[0.8888888888888888,\"#fdca26\"],[1.0,\"#f0f921\"]],\"sequentialminus\":[[0.0,\"#0d0887\"],[0.1111111111111111,\"#46039f\"],[0.2222222222222222,\"#7201a8\"],[0.3333333333333333,\"#9c179e\"],[0.4444444444444444,\"#bd3786\"],[0.5555555555555556,\"#d8576b\"],[0.6666666666666666,\"#ed7953\"],[0.7777777777777778,\"#fb9f3a\"],[0.8888888888888888,\"#fdca26\"],[1.0,\"#f0f921\"]]},\"colorway\":[\"#636efa\",\"#EF553B\",\"#00cc96\",\"#ab63fa\",\"#FFA15A\",\"#19d3f3\",\"#FF6692\",\"#B6E880\",\"#FF97FF\",\"#FECB52\"],\"font\":{\"color\":\"#2a3f5f\"},\"geo\":{\"bgcolor\":\"white\",\"lakecolor\":\"white\",\"landcolor\":\"#E5ECF6\",\"showlakes\":true,\"showland\":true,\"subunitcolor\":\"white\"},\"hoverlabel\":{\"align\":\"left\"},\"hovermode\":\"closest\",\"mapbox\":{\"style\":\"light\"},\"paper_bgcolor\":\"white\",\"plot_bgcolor\":\"#E5ECF6\",\"polar\":{\"angularaxis\":{\"gridcolor\":\"white\",\"linecolor\":\"white\",\"ticks\":\"\"},\"bgcolor\":\"#E5ECF6\",\"radialaxis\":{\"gridcolor\":\"white\",\"linecolor\":\"white\",\"ticks\":\"\"}},\"scene\":{\"xaxis\":{\"backgroundcolor\":\"#E5ECF6\",\"gridcolor\":\"white\",\"gridwidth\":2,\"linecolor\":\"white\",\"showbackground\":true,\"ticks\":\"\",\"zerolinecolor\":\"white\"},\"yaxis\":{\"backgroundcolor\":\"#E5ECF6\",\"gridcolor\":\"white\",\"gridwidth\":2,\"linecolor\":\"white\",\"showbackground\":true,\"ticks\":\"\",\"zerolinecolor\":\"white\"},\"zaxis\":{\"backgroundcolor\":\"#E5ECF6\",\"gridcolor\":\"white\",\"gridwidth\":2,\"linecolor\":\"white\",\"showbackground\":true,\"ticks\":\"\",\"zerolinecolor\":\"white\"}},\"shapedefaults\":{\"line\":{\"color\":\"#2a3f5f\"}},\"ternary\":{\"aaxis\":{\"gridcolor\":\"white\",\"linecolor\":\"white\",\"ticks\":\"\"},\"baxis\":{\"gridcolor\":\"white\",\"linecolor\":\"white\",\"ticks\":\"\"},\"bgcolor\":\"#E5ECF6\",\"caxis\":{\"gridcolor\":\"white\",\"linecolor\":\"white\",\"ticks\":\"\"}},\"title\":{\"x\":0.05},\"xaxis\":{\"automargin\":true,\"gridcolor\":\"white\",\"linecolor\":\"white\",\"ticks\":\"\",\"title\":{\"standoff\":15},\"zerolinecolor\":\"white\",\"zerolinewidth\":2},\"yaxis\":{\"automargin\":true,\"gridcolor\":\"white\",\"linecolor\":\"white\",\"ticks\":\"\",\"title\":{\"standoff\":15},\"zerolinecolor\":\"white\",\"zerolinewidth\":2}}}},                        {\"responsive\": true}                    ).then(function(){\n",
              "                            \n",
              "var gd = document.getElementById('f2bf22d1-3c16-494f-afa5-d8e5ab13b47b');\n",
              "var x = new MutationObserver(function (mutations, observer) {{\n",
              "        var display = window.getComputedStyle(gd).display;\n",
              "        if (!display || display === 'none') {{\n",
              "            console.log([gd, 'removed!']);\n",
              "            Plotly.purge(gd);\n",
              "            observer.disconnect();\n",
              "        }}\n",
              "}});\n",
              "\n",
              "// Listen for the removal of the full notebook cells\n",
              "var notebookContainer = gd.closest('#notebook-container');\n",
              "if (notebookContainer) {{\n",
              "    x.observe(notebookContainer, {childList: true});\n",
              "}}\n",
              "\n",
              "// Listen for the clearing of the current output cell\n",
              "var outputEl = gd.closest('.output');\n",
              "if (outputEl) {{\n",
              "    x.observe(outputEl, {childList: true});\n",
              "}}\n",
              "\n",
              "                        })                };                            </script>        </div>\n",
              "</body>\n",
              "</html>"
            ]
          },
          "metadata": {}
        }
      ]
    },
    {
      "cell_type": "markdown",
      "source": [
        "#### upload diagrams"
      ],
      "metadata": {
        "id": "PParS3B7pPL_"
      }
    },
    {
      "cell_type": "code",
      "source": [
        "chart_studio.tools.set_credentials_file(username='USER_NAME', api_key='API_KEY')"
      ],
      "metadata": {
        "id": "UdxFajuOo17W"
      },
      "execution_count": null,
      "outputs": []
    },
    {
      "cell_type": "code",
      "source": [
        "py.plot(fig, filename = 'FILE_NAME', auto_open=True) # out: URL to diagram"
      ],
      "metadata": {
        "id": "zwHqlOzOpUzr"
      },
      "execution_count": null,
      "outputs": []
    }
  ]
}